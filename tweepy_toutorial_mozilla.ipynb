{
    "cells": [
        {
            "cell_type": "markdown",
            "source": [
                "# Scraping Data off Twitter Using Python + NLP + Data Visualization\n",
                "### This is from the [Algovibes Youtube Channel](https://youtu.be/bNDRiaFyLrs)"
            ],
            "metadata": {}
        },
        {
            "cell_type": "markdown",
            "source": [
                "#import the libraries\n",
                "import tweepy\n",
                "import pandas as pd"
            ],
            "metadata": {}
        },
        {
            "cell_type": "code",
            "execution_count": 2,
            "source": [
                "#Import nlp and graphing libraries\n",
                "import matplotlib.pyplot as plt\n",
                "import re\n",
                "import spacy\n",
                "nlp = spacy.load('en_core_web_lg')\n",
                "import seaborn as sns\n",
                "\n",
                "from nltk.stem.snowball import SnowballStemmer\n",
                "from nltk.corpus import stopwords\n",
                "from nltk.stem.wordnet import WordNetLemmatizer"
            ],
            "outputs": [],
            "metadata": {}
        },
        {
            "cell_type": "code",
            "execution_count": 3,
            "source": [
                "## In case you do not have 'en_core_web_lg load it like this\n",
                "# !python3 -m spacy download en_core_web_lg"
            ],
            "outputs": [],
            "metadata": {}
        },
        {
            "cell_type": "code",
            "execution_count": 4,
            "source": [
                "# Type in your twiter dev keys if they aren't save in a different file:\n",
                "#API Key\n",
                "consumer_key = 'password' \n",
                "#API...secret\n",
                "consumer_secret = 'password'\n",
                "#access stuff\n",
                "access_token = 'password'\n",
                "access_token_secret = 'password'"
            ],
            "outputs": [],
            "metadata": {}
        },
        {
            "cell_type": "code",
            "execution_count": 5,
            "source": [
                "# Run your developer keys from a different file\n",
                "%run ./tweepy_passwds.py"
            ],
            "outputs": [],
            "metadata": {}
        },
        {
            "cell_type": "code",
            "execution_count": 6,
            "source": [
                "# set up authorization access objects\n",
                "auth = tweepy.OAuthHandler(consumer_key, consumer_secret)\n",
                "auth.set_access_token(access_token, access_token_secret)\n",
                "api = tweepy.API(auth)"
            ],
            "outputs": [],
            "metadata": {}
        },
        {
            "cell_type": "code",
            "execution_count": 7,
            "source": [
                "# Create cursor object to extract tweets and tweet info\n",
                "cursor = tweepy.Cursor(api.search, q='bitcoin',tweet_mode='extended').items(1)"
            ],
            "outputs": [],
            "metadata": {}
        },
        {
            "cell_type": "code",
            "execution_count": 8,
            "source": [
                "# test cursor for 1 tweet\n",
                "for i in cursor:\n",
                "    print(i.full_text)"
            ],
            "outputs": [
                {
                    "output_type": "stream",
                    "name": "stdout",
                    "text": [
                        "RT @jobcashofficial: ✔️JobCash Airdrop Round 3  is live! \n",
                        "\n",
                        "♦️ Airdrop Reward:  50 JCH [~$2.8] + 18 JCH [~$1] per referral\n",
                        "\n",
                        "♦️  Referral Rew…\n"
                    ]
                }
            ],
            "metadata": {}
        },
        {
            "cell_type": "code",
            "execution_count": 11,
            "source": [
                "# Create for loop to grab multiple tweets and save the info you want into lists\n",
                "number_of_tweets = 200\n",
                "tweets = []\n",
                "likes = []\n",
                "time = []\n",
                "\n",
                "for i in tweepy.Cursor(api.user_timeline, id=\"mozilla\", tweet_mode='extended').items(number_of_tweets):\n",
                "    tweets.append(i.full_text)\n",
                "    likes.append(i.favorite_count)\n",
                "    time.append(i.created_at)"
            ],
            "outputs": [],
            "metadata": {}
        },
        {
            "cell_type": "code",
            "execution_count": 12,
            "source": [
                "# turn lists into df\n",
                "df = pd.DataFrame({'tweets':tweets, 'likes':likes, 'time':time})\n",
                "df"
            ],
            "outputs": [
                {
                    "output_type": "execute_result",
                    "data": {
                        "text/plain": [
                            "                                                tweets  likes  \\\n",
                            "0    RT @publicknowledge: Enrollment for the Emerge...      0   \n",
                            "1    🗣️ Join our Kiswahili Common Voice community! ...     11   \n",
                            "2    Right now, @ring is collaborating with over 13...     65   \n",
                            "3    Our @reddit_ama is starting now!  ▶️ https://t...     11   \n",
                            "4    Have you heard the news? \\n\\n@Ring has finally...     26   \n",
                            "..                                                 ...    ...   \n",
                            "195  What is #NetNeutrality? Why does it matter? An...     46   \n",
                            "196  RT @digitalplanet: On @digitalplanet; The firs...      0   \n",
                            "197  RT @ZDNet: Mozilla expands effort to bring Kis...      0   \n",
                            "198  RT @digitalplanet: Want to have your smart ass...      0   \n",
                            "199  Why am I seeing this video? 🤷\\n\\nIn this episo...     16   \n",
                            "\n",
                            "                   time  \n",
                            "0   2021-08-26 14:02:04  \n",
                            "1   2021-08-26 12:12:01  \n",
                            "2   2021-08-25 20:16:01  \n",
                            "3   2021-08-24 16:22:53  \n",
                            "4   2021-08-23 18:30:08  \n",
                            "..                  ...  \n",
                            "195 2021-05-26 15:51:01  \n",
                            "196 2021-05-26 12:20:22  \n",
                            "197 2021-05-26 09:32:03  \n",
                            "198 2021-05-26 09:31:31  \n",
                            "199 2021-05-25 18:20:10  \n",
                            "\n",
                            "[200 rows x 3 columns]"
                        ],
                        "text/html": [
                            "<div>\n",
                            "<style scoped>\n",
                            "    .dataframe tbody tr th:only-of-type {\n",
                            "        vertical-align: middle;\n",
                            "    }\n",
                            "\n",
                            "    .dataframe tbody tr th {\n",
                            "        vertical-align: top;\n",
                            "    }\n",
                            "\n",
                            "    .dataframe thead th {\n",
                            "        text-align: right;\n",
                            "    }\n",
                            "</style>\n",
                            "<table border=\"1\" class=\"dataframe\">\n",
                            "  <thead>\n",
                            "    <tr style=\"text-align: right;\">\n",
                            "      <th></th>\n",
                            "      <th>tweets</th>\n",
                            "      <th>likes</th>\n",
                            "      <th>time</th>\n",
                            "    </tr>\n",
                            "  </thead>\n",
                            "  <tbody>\n",
                            "    <tr>\n",
                            "      <th>0</th>\n",
                            "      <td>RT @publicknowledge: Enrollment for the Emerge...</td>\n",
                            "      <td>0</td>\n",
                            "      <td>2021-08-26 14:02:04</td>\n",
                            "    </tr>\n",
                            "    <tr>\n",
                            "      <th>1</th>\n",
                            "      <td>🗣️ Join our Kiswahili Common Voice community! ...</td>\n",
                            "      <td>11</td>\n",
                            "      <td>2021-08-26 12:12:01</td>\n",
                            "    </tr>\n",
                            "    <tr>\n",
                            "      <th>2</th>\n",
                            "      <td>Right now, @ring is collaborating with over 13...</td>\n",
                            "      <td>65</td>\n",
                            "      <td>2021-08-25 20:16:01</td>\n",
                            "    </tr>\n",
                            "    <tr>\n",
                            "      <th>3</th>\n",
                            "      <td>Our @reddit_ama is starting now!  ▶️ https://t...</td>\n",
                            "      <td>11</td>\n",
                            "      <td>2021-08-24 16:22:53</td>\n",
                            "    </tr>\n",
                            "    <tr>\n",
                            "      <th>4</th>\n",
                            "      <td>Have you heard the news? \\n\\n@Ring has finally...</td>\n",
                            "      <td>26</td>\n",
                            "      <td>2021-08-23 18:30:08</td>\n",
                            "    </tr>\n",
                            "    <tr>\n",
                            "      <th>...</th>\n",
                            "      <td>...</td>\n",
                            "      <td>...</td>\n",
                            "      <td>...</td>\n",
                            "    </tr>\n",
                            "    <tr>\n",
                            "      <th>195</th>\n",
                            "      <td>What is #NetNeutrality? Why does it matter? An...</td>\n",
                            "      <td>46</td>\n",
                            "      <td>2021-05-26 15:51:01</td>\n",
                            "    </tr>\n",
                            "    <tr>\n",
                            "      <th>196</th>\n",
                            "      <td>RT @digitalplanet: On @digitalplanet; The firs...</td>\n",
                            "      <td>0</td>\n",
                            "      <td>2021-05-26 12:20:22</td>\n",
                            "    </tr>\n",
                            "    <tr>\n",
                            "      <th>197</th>\n",
                            "      <td>RT @ZDNet: Mozilla expands effort to bring Kis...</td>\n",
                            "      <td>0</td>\n",
                            "      <td>2021-05-26 09:32:03</td>\n",
                            "    </tr>\n",
                            "    <tr>\n",
                            "      <th>198</th>\n",
                            "      <td>RT @digitalplanet: Want to have your smart ass...</td>\n",
                            "      <td>0</td>\n",
                            "      <td>2021-05-26 09:31:31</td>\n",
                            "    </tr>\n",
                            "    <tr>\n",
                            "      <th>199</th>\n",
                            "      <td>Why am I seeing this video? 🤷\\n\\nIn this episo...</td>\n",
                            "      <td>16</td>\n",
                            "      <td>2021-05-25 18:20:10</td>\n",
                            "    </tr>\n",
                            "  </tbody>\n",
                            "</table>\n",
                            "<p>200 rows × 3 columns</p>\n",
                            "</div>"
                        ]
                    },
                    "metadata": {},
                    "execution_count": 12
                }
            ],
            "metadata": {}
        },
        {
            "cell_type": "code",
            "execution_count": 13,
            "source": [
                "# delete all ReTweets from df\n",
                "df = df[~df.tweets.str.contains('RT')]\n",
                "\n",
                "# reset the index\n",
                "df = df.reset_index(drop=True)"
            ],
            "outputs": [],
            "metadata": {}
        },
        {
            "cell_type": "code",
            "execution_count": 14,
            "source": [
                "df"
            ],
            "outputs": [
                {
                    "output_type": "execute_result",
                    "data": {
                        "text/plain": [
                            "                                                tweets  likes  \\\n",
                            "0    🗣️ Join our Kiswahili Common Voice community! ...     11   \n",
                            "1    Right now, @ring is collaborating with over 13...     65   \n",
                            "2    Our @reddit_ama is starting now!  ▶️ https://t...     11   \n",
                            "3    Have you heard the news? \\n\\n@Ring has finally...     26   \n",
                            "4    Within a few swipes 📲 you're potentially cutti...     33   \n",
                            "..                                                 ...    ...   \n",
                            "178  Speech recognition is revolutionizing our rela...     34   \n",
                            "179  📺 Tune in for @msurman's keynote presentation ...     10   \n",
                            "180  Mozilla's @chenaichair on @digitalplanet discu...     29   \n",
                            "181  What is #NetNeutrality? Why does it matter? An...     46   \n",
                            "182  Why am I seeing this video? 🤷\\n\\nIn this episo...     16   \n",
                            "\n",
                            "                   time  \n",
                            "0   2021-08-26 12:12:01  \n",
                            "1   2021-08-25 20:16:01  \n",
                            "2   2021-08-24 16:22:53  \n",
                            "3   2021-08-23 18:30:08  \n",
                            "4   2021-08-22 16:07:02  \n",
                            "..                  ...  \n",
                            "178 2021-05-27 14:47:03  \n",
                            "179 2021-05-27 11:29:00  \n",
                            "180 2021-05-26 20:48:03  \n",
                            "181 2021-05-26 15:51:01  \n",
                            "182 2021-05-25 18:20:10  \n",
                            "\n",
                            "[183 rows x 3 columns]"
                        ],
                        "text/html": [
                            "<div>\n",
                            "<style scoped>\n",
                            "    .dataframe tbody tr th:only-of-type {\n",
                            "        vertical-align: middle;\n",
                            "    }\n",
                            "\n",
                            "    .dataframe tbody tr th {\n",
                            "        vertical-align: top;\n",
                            "    }\n",
                            "\n",
                            "    .dataframe thead th {\n",
                            "        text-align: right;\n",
                            "    }\n",
                            "</style>\n",
                            "<table border=\"1\" class=\"dataframe\">\n",
                            "  <thead>\n",
                            "    <tr style=\"text-align: right;\">\n",
                            "      <th></th>\n",
                            "      <th>tweets</th>\n",
                            "      <th>likes</th>\n",
                            "      <th>time</th>\n",
                            "    </tr>\n",
                            "  </thead>\n",
                            "  <tbody>\n",
                            "    <tr>\n",
                            "      <th>0</th>\n",
                            "      <td>🗣️ Join our Kiswahili Common Voice community! ...</td>\n",
                            "      <td>11</td>\n",
                            "      <td>2021-08-26 12:12:01</td>\n",
                            "    </tr>\n",
                            "    <tr>\n",
                            "      <th>1</th>\n",
                            "      <td>Right now, @ring is collaborating with over 13...</td>\n",
                            "      <td>65</td>\n",
                            "      <td>2021-08-25 20:16:01</td>\n",
                            "    </tr>\n",
                            "    <tr>\n",
                            "      <th>2</th>\n",
                            "      <td>Our @reddit_ama is starting now!  ▶️ https://t...</td>\n",
                            "      <td>11</td>\n",
                            "      <td>2021-08-24 16:22:53</td>\n",
                            "    </tr>\n",
                            "    <tr>\n",
                            "      <th>3</th>\n",
                            "      <td>Have you heard the news? \\n\\n@Ring has finally...</td>\n",
                            "      <td>26</td>\n",
                            "      <td>2021-08-23 18:30:08</td>\n",
                            "    </tr>\n",
                            "    <tr>\n",
                            "      <th>4</th>\n",
                            "      <td>Within a few swipes 📲 you're potentially cutti...</td>\n",
                            "      <td>33</td>\n",
                            "      <td>2021-08-22 16:07:02</td>\n",
                            "    </tr>\n",
                            "    <tr>\n",
                            "      <th>...</th>\n",
                            "      <td>...</td>\n",
                            "      <td>...</td>\n",
                            "      <td>...</td>\n",
                            "    </tr>\n",
                            "    <tr>\n",
                            "      <th>178</th>\n",
                            "      <td>Speech recognition is revolutionizing our rela...</td>\n",
                            "      <td>34</td>\n",
                            "      <td>2021-05-27 14:47:03</td>\n",
                            "    </tr>\n",
                            "    <tr>\n",
                            "      <th>179</th>\n",
                            "      <td>📺 Tune in for @msurman's keynote presentation ...</td>\n",
                            "      <td>10</td>\n",
                            "      <td>2021-05-27 11:29:00</td>\n",
                            "    </tr>\n",
                            "    <tr>\n",
                            "      <th>180</th>\n",
                            "      <td>Mozilla's @chenaichair on @digitalplanet discu...</td>\n",
                            "      <td>29</td>\n",
                            "      <td>2021-05-26 20:48:03</td>\n",
                            "    </tr>\n",
                            "    <tr>\n",
                            "      <th>181</th>\n",
                            "      <td>What is #NetNeutrality? Why does it matter? An...</td>\n",
                            "      <td>46</td>\n",
                            "      <td>2021-05-26 15:51:01</td>\n",
                            "    </tr>\n",
                            "    <tr>\n",
                            "      <th>182</th>\n",
                            "      <td>Why am I seeing this video? 🤷\\n\\nIn this episo...</td>\n",
                            "      <td>16</td>\n",
                            "      <td>2021-05-25 18:20:10</td>\n",
                            "    </tr>\n",
                            "  </tbody>\n",
                            "</table>\n",
                            "<p>183 rows × 3 columns</p>\n",
                            "</div>"
                        ]
                    },
                    "metadata": {},
                    "execution_count": 14
                }
            ],
            "metadata": {}
        },
        {
            "cell_type": "code",
            "execution_count": 15,
            "source": [
                "# create df of \"most liked\" tweets from yor data set\n",
                "mostlike = df.loc[df.likes.nlargest(5).index]\n",
                "mostlike"
            ],
            "outputs": [
                {
                    "output_type": "execute_result",
                    "data": {
                        "text/plain": [
                            "                                                tweets  likes  \\\n",
                            "42   Facebook claims they shut down the researchers...    529   \n",
                            "99   Are your @YouTube recommendations sometimes li...    375   \n",
                            "155  Today's the day @amazon begins automatically o...    160   \n",
                            "166  Tell me it’s a political ad without telling me...    120   \n",
                            "10   We’re glad to see Amazon was fined a record-br...    101   \n",
                            "\n",
                            "                   time  \n",
                            "42  2021-08-04 19:00:01  \n",
                            "99  2021-07-07 09:05:41  \n",
                            "155 2021-06-08 17:35:51  \n",
                            "166 2021-06-03 19:35:02  \n",
                            "10  2021-08-19 14:14:29  "
                        ],
                        "text/html": [
                            "<div>\n",
                            "<style scoped>\n",
                            "    .dataframe tbody tr th:only-of-type {\n",
                            "        vertical-align: middle;\n",
                            "    }\n",
                            "\n",
                            "    .dataframe tbody tr th {\n",
                            "        vertical-align: top;\n",
                            "    }\n",
                            "\n",
                            "    .dataframe thead th {\n",
                            "        text-align: right;\n",
                            "    }\n",
                            "</style>\n",
                            "<table border=\"1\" class=\"dataframe\">\n",
                            "  <thead>\n",
                            "    <tr style=\"text-align: right;\">\n",
                            "      <th></th>\n",
                            "      <th>tweets</th>\n",
                            "      <th>likes</th>\n",
                            "      <th>time</th>\n",
                            "    </tr>\n",
                            "  </thead>\n",
                            "  <tbody>\n",
                            "    <tr>\n",
                            "      <th>42</th>\n",
                            "      <td>Facebook claims they shut down the researchers...</td>\n",
                            "      <td>529</td>\n",
                            "      <td>2021-08-04 19:00:01</td>\n",
                            "    </tr>\n",
                            "    <tr>\n",
                            "      <th>99</th>\n",
                            "      <td>Are your @YouTube recommendations sometimes li...</td>\n",
                            "      <td>375</td>\n",
                            "      <td>2021-07-07 09:05:41</td>\n",
                            "    </tr>\n",
                            "    <tr>\n",
                            "      <th>155</th>\n",
                            "      <td>Today's the day @amazon begins automatically o...</td>\n",
                            "      <td>160</td>\n",
                            "      <td>2021-06-08 17:35:51</td>\n",
                            "    </tr>\n",
                            "    <tr>\n",
                            "      <th>166</th>\n",
                            "      <td>Tell me it’s a political ad without telling me...</td>\n",
                            "      <td>120</td>\n",
                            "      <td>2021-06-03 19:35:02</td>\n",
                            "    </tr>\n",
                            "    <tr>\n",
                            "      <th>10</th>\n",
                            "      <td>We’re glad to see Amazon was fined a record-br...</td>\n",
                            "      <td>101</td>\n",
                            "      <td>2021-08-19 14:14:29</td>\n",
                            "    </tr>\n",
                            "  </tbody>\n",
                            "</table>\n",
                            "</div>"
                        ]
                    },
                    "metadata": {},
                    "execution_count": 15
                }
            ],
            "metadata": {}
        },
        {
            "cell_type": "code",
            "execution_count": 16,
            "source": [
                "# create a list of all words from each tweet using .split()\n",
                "list_of_sentences = [sentence for sentence in df.tweets]\n",
                "lines = []\n",
                "for sentence in list_of_sentences:\n",
                "    words = sentence.split()\n",
                "    for w in words:\n",
                "        lines.append(w)\n",
                "lines[0:3]"
            ],
            "outputs": [
                {
                    "output_type": "execute_result",
                    "data": {
                        "text/plain": [
                            "['🗣️', 'Join', 'our']"
                        ]
                    },
                    "metadata": {},
                    "execution_count": 16
                }
            ],
            "metadata": {}
        },
        {
            "cell_type": "code",
            "execution_count": 17,
            "source": [
                "# create second list that excludes all non letters or numbers\n",
                "\n",
                "lines = [re.sub(r'[^A-Za-z0-9]+','',x) for x in lines]\n",
                "\n",
                "lines2 = []\n",
                "\n",
                "for word in lines:\n",
                "    if word != '':\n",
                "        lines2.append(word)"
            ],
            "outputs": [],
            "metadata": {}
        },
        {
            "cell_type": "code",
            "execution_count": 18,
            "source": [
                "# Reduce each word to it's stem for a more specific word count\n",
                "s_stemmer = SnowballStemmer(language='english')\n",
                "\n",
                "stem = []\n",
                "for word in lines2:\n",
                "    stem.append(s_stemmer.stem(word))"
            ],
            "outputs": [],
            "metadata": {}
        },
        {
            "cell_type": "code",
            "execution_count": 19,
            "source": [
                "# get rid of all stop words\n",
                "stem2  = []\n",
                "\n",
                "for word in stem:\n",
                "    if word not in nlp.Defaults.stop_words:\n",
                "        stem2.append(word)\n"
            ],
            "outputs": [],
            "metadata": {}
        },
        {
            "cell_type": "code",
            "execution_count": 20,
            "source": [
                "#save df2 to the count of each individual word\n",
                "df2 = pd.DataFrame(stem2)\n",
                "\n",
                "df2 = df2[0].value_counts()"
            ],
            "outputs": [],
            "metadata": {}
        },
        {
            "cell_type": "code",
            "execution_count": 33,
            "source": [
                "# create \"top words tweeted\"\n",
                "df2 = df2[:20]\n",
                "plt.figure(figsize=(7,5))\n",
                "sns.barplot(df2.values, df2.index,alpha=1)\n",
                "plt.title('Top Words Tweeted by @Mozilla')\n",
                "plt.ylabel('Word from Tweet', fontsize=12)\n",
                "plt.xlabel('Count of Words', fontsize=12)\n",
                "plt.show()"
            ],
            "outputs": [
                {
                    "output_type": "stream",
                    "name": "stderr",
                    "text": [
                        "/Library/Frameworks/Python.framework/Versions/3.8/lib/python3.8/site-packages/seaborn/_decorators.py:36: FutureWarning: Pass the following variables as keyword args: x, y. From version 0.12, the only valid positional argument will be `data`, and passing other arguments without an explicit keyword will result in an error or misinterpretation.\n",
                        "  warnings.warn(\n"
                    ]
                },
                {
                    "output_type": "display_data",
                    "data": {
                        "text/plain": [
                            "<Figure size 504x360 with 1 Axes>"
                        ],
                        "image/png": "[encoded data removed]"
                    },
                    "metadata": {
                        "needs_background": "light"
                    }
                }
            ],
            "metadata": {}
        },
        {
            "cell_type": "code",
            "execution_count": 22,
            "source": [
                "# Use spaCy to break things into Organizations to show Top Organizations \n",
                "\n",
                "str1 = \" \" #create 1 space string\n",
                "stem2 = str1.join(lines2) #join all destemmed words together into one long sentence\n",
                "\n",
                "stem2 = nlp(stem2) \n",
                "\n",
                "label = [(X.text, X.label_) for X in stem2.ents]\n",
                "\n",
                "df6 = pd.DataFrame(label, columns = ['Word', 'Entity'])\n",
                "\n",
                "df7 = df6.where(df6['Entity'] == 'ORG')\n",
                "\n",
                "df7 = df7['Word'].value_counts()"
            ],
            "outputs": [],
            "metadata": {}
        },
        {
            "cell_type": "code",
            "execution_count": 30,
            "source": [
                "# create Top Organizaitons Graph\n",
                "\n",
                "dfx = df7[:20]\n",
                "plt.figure(figsize=(10,5))\n",
                "sns.barplot(dfx.values, dfx.index, alpha=1)\n",
                "plt.title('Top Organizatios Mentioned by @Mozilla')\n",
                "plt.ylabel('Organizations', fontsize=12)\n",
                "plt.xlabel('Count of Mentions',fontsize=12)\n",
                "plt.show()"
            ],
            "outputs": [
                {
                    "output_type": "stream",
                    "name": "stderr",
                    "text": [
                        "/Library/Frameworks/Python.framework/Versions/3.8/lib/python3.8/site-packages/seaborn/_decorators.py:36: FutureWarning: Pass the following variables as keyword args: x, y. From version 0.12, the only valid positional argument will be `data`, and passing other arguments without an explicit keyword will result in an error or misinterpretation.\n",
                        "  warnings.warn(\n"
                    ]
                },
                {
                    "output_type": "display_data",
                    "data": {
                        "text/plain": [
                            "<Figure size 720x360 with 1 Axes>"
                        ],
                        "image/png": "[encoded data removed]"
                    },
                    "metadata": {
                        "needs_background": "light"
                    }
                }
            ],
            "metadata": {}
        },
        {
            "cell_type": "code",
            "execution_count": 23,
            "source": [
                "# Grab all people for people word count:\n",
                "df8 = df6.where(df6['Entity'] == 'PERSON')\n",
                "df9 = df8['Word'].value_counts()"
            ],
            "outputs": [],
            "metadata": {}
        },
        {
            "cell_type": "code",
            "execution_count": 29,
            "source": [
                "\n",
                "plt.figure(figsize=(10,10))\n",
                "sns.barplot(df9.values, df9.index, alpha=1)\n",
                "plt.title('Top People Mentioned by @Mozilla', fontsize=12)\n",
                "plt.ylabel('Person', fontsize=12)\n",
                "plt.xlabel('Count of Mentions', fontsize=12)"
            ],
            "outputs": [
                {
                    "output_type": "stream",
                    "name": "stderr",
                    "text": [
                        "/Library/Frameworks/Python.framework/Versions/3.8/lib/python3.8/site-packages/seaborn/_decorators.py:36: FutureWarning: Pass the following variables as keyword args: x, y. From version 0.12, the only valid positional argument will be `data`, and passing other arguments without an explicit keyword will result in an error or misinterpretation.\n",
                        "  warnings.warn(\n"
                    ]
                },
                {
                    "output_type": "execute_result",
                    "data": {
                        "text/plain": [
                            "Text(0.5, 0, 'Count of Mentions')"
                        ]
                    },
                    "metadata": {},
                    "execution_count": 29
                },
                {
                    "output_type": "display_data",
                    "data": {
                        "text/plain": [
                            "<Figure size 720x576 with 1 Axes>"
                        ],
                        "image/png": "[encoded data removed]"
                    },
                    "metadata": {
                        "needs_background": "light"
                    }
                }
            ],
            "metadata": {}
        },
        {
            "cell_type": "code",
            "execution_count": null,
            "source": [],
            "outputs": [],
            "metadata": {}
        }
    ],
    "metadata": {
        "orig_nbformat": 4,
        "language_info": {
            "name": "python",
            "version": "3.8.3",
            "mimetype": "text/x-python",
            "codemirror_mode": {
                "name": "ipython",
                "version": 3
            },
            "pygments_lexer": "ipython3",
            "nbconvert_exporter": "python",
            "file_extension": ".py"
        },
        "kernelspec": {
            "name": "python3",
            "display_name": "Python 3.8.3 64-bit"
        },
        "interpreter": {
            "hash": "aee8b7b246df8f9039afb4144a1f6fd8d2ca17a180786b69acc140d282b71a49"
        }
    },
    "nbformat": 4,
    "nbformat_minor": 2
}